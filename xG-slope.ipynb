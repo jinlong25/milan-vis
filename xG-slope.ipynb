{
 "cells": [
  {
   "cell_type": "code",
   "execution_count": 12,
   "metadata": {},
   "outputs": [],
   "source": [
    "import json\n",
    "import pandas as pd\n",
    "import csv"
   ]
  },
  {
   "cell_type": "code",
   "execution_count": 31,
   "metadata": {},
   "outputs": [
    {
     "name": "stdout",
     "output_type": "stream",
     "text": [
      "['id', 'minute', 'result', 'X', 'Y', 'xG', 'player', 'h_a', 'player_id', 'situation', 'season', 'shotType', 'match_id', 'h_team', 'a_team', 'h_goals', 'a_goals', 'date', 'player_assisted', 'lastAction']\n",
      "{'id': '428051', 'minute': 93, 'result': 'MissedShots', 'X': 0.8159999847412109, 'Y': 0.5970000076293945, 'xG': 0.06861367076635361, 'player': 'Ante Rebic', 'h_a': 'a', 'player_id': '1852', 'situation': 'OpenPlay', 'season': '2021', 'shotType': 'RightFoot', 'match_id': '16765', 'h_team': 'Sampdoria', 'a_team': 'AC Milan', 'date': '2021-08-23 18:45:00', 'player_assisted': 'Olivier Giroud', 'lastAction': 'Pass', 'h_goals': '0', 'a_goals': '1'}\n"
     ]
    }
   ],
   "source": [
    "data = []\n",
    "\n",
    "with open('data/data.csv', 'r') as file:\n",
    "    reader = csv.reader(file)\n",
    "    headers = next(reader, None)\n",
    "    print(headers)\n",
    "    for row in reader:\n",
    "#         print(row)\n",
    "        e['id'] = row[0]\n",
    "        e['minute'] = int(row[1])\n",
    "        e['result'] = row[2]\n",
    "        e['X'] = float(row[3])\n",
    "        e['Y'] = float(row[4])\n",
    "        e['xG'] = float(row[5])\n",
    "        e['player'] = row[6]\n",
    "        e['h_a'] = row[7]\n",
    "        e['player_id'] = row[8]\n",
    "        e['situation'] = row[9]\n",
    "        e['season'] = row[10]\n",
    "        e['shotType'] = row[11]\n",
    "        e['match_id'] = row[12]\n",
    "        e['h_team'] = row[13]\n",
    "        e['a_team'] = row[14]\n",
    "        e['h_goals'] = row[15]\n",
    "        e['a_goals'] = row[16]\n",
    "        e['date'] = row[17]\n",
    "        e['player_assisted'] = row[18]\n",
    "        e['lastAction'] = row[19]\n",
    "        data.append(e)\n",
    "\n",
    "print(data[0])"
   ]
  },
  {
   "cell_type": "code",
   "execution_count": null,
   "metadata": {},
   "outputs": [],
   "source": []
  },
  {
   "cell_type": "code",
   "execution_count": 5,
   "metadata": {},
   "outputs": [],
   "source": []
  },
  {
   "cell_type": "code",
   "execution_count": 16,
   "metadata": {},
   "outputs": [],
   "source": [
    "df.to_csv('data/data.csv', sep=',', encoding='utf-8', index=False)"
   ]
  },
  {
   "cell_type": "code",
   "execution_count": 11,
   "metadata": {},
   "outputs": [],
   "source": []
  },
  {
   "cell_type": "code",
   "execution_count": null,
   "metadata": {},
   "outputs": [],
   "source": []
  }
 ],
 "metadata": {
  "kernelspec": {
   "display_name": "Python 3 (ipykernel)",
   "language": "python",
   "name": "python3"
  },
  "language_info": {
   "codemirror_mode": {
    "name": "ipython",
    "version": 3
   },
   "file_extension": ".py",
   "mimetype": "text/x-python",
   "name": "python",
   "nbconvert_exporter": "python",
   "pygments_lexer": "ipython3",
   "version": "3.9.7"
  }
 },
 "nbformat": 4,
 "nbformat_minor": 4
}
