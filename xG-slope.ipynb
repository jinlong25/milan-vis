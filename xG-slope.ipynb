{
 "cells": [
  {
   "cell_type": "code",
   "execution_count": 12,
   "metadata": {},
   "outputs": [],
   "source": [
    "import json\n",
    "import pandas as pd\n",
    "import csv"
   ]
  },
  {
   "cell_type": "code",
   "execution_count": 43,
   "metadata": {},
   "outputs": [],
   "source": [
    "milan_players = [\n",
    "  7193,\n",
    "  502,\n",
    "  1741,\n",
    "  8838,\n",
    "  2547,\n",
    "  7958,\n",
    "  8297,\n",
    "  1574,\n",
    "  1489,\n",
    "  1852,\n",
    "  6421,\n",
    "  1254,\n",
    "  6981,\n",
    "  1119,\n",
    "  1311,\n",
    "  703,\n",
    "  1471,\n",
    "  4699,\n",
    "  3429,\n",
    "  8163,\n",
    "  2303,\n",
    "  4920,\n",
    "  8313,\n",
    "  1547,\n",
    "  5803,\n",
    "  9440,\n",
    "  3737,\n",
    "  1416\n",
    "]"
   ]
  },
  {
   "cell_type": "code",
   "execution_count": 38,
   "metadata": {},
   "outputs": [
    {
     "name": "stdout",
     "output_type": "stream",
     "text": [
      "          id  minute       result      X      Y        xG            player  \\\n",
      "0     478051       4  BlockedShot  0.695  0.548  0.018108   Davide Frattesi   \n",
      "1     478052       5  MissedShots  0.774  0.736  0.015863  Domenico Berardi   \n",
      "2     478063      29  MissedShots  0.903  0.437  0.030053        Kaan Ayhan   \n",
      "3     478064      30  MissedShots  0.760  0.582  0.022084  Domenico Berardi   \n",
      "4     478069      42    SavedShot  0.915  0.353  0.017899   Davide Frattesi   \n",
      "...      ...     ...          ...    ...    ...       ...               ...   \n",
      "1005  428037      46  BlockedShot  0.778  0.446  0.044630     Sandro Tonali   \n",
      "1006  428040      57  MissedShots  0.929  0.564  0.053009       Simon Kjaer   \n",
      "1007  428041      60  MissedShots  0.785  0.356  0.033279   Davide Calabria   \n",
      "1008  428043      65    SavedShot  0.761  0.674  0.026995       Brahim Diaz   \n",
      "1009  428051      93  MissedShots  0.816  0.597  0.068614        Ante Rebic   \n",
      "\n",
      "     h_a  player_id situation  season   shotType  match_id     h_team  \\\n",
      "0      h       4981  OpenPlay    2021  RightFoot     17132   Sassuolo   \n",
      "1      h       1612  OpenPlay    2021   LeftFoot     17132   Sassuolo   \n",
      "2      h        347  SetPiece    2021       Head     17132   Sassuolo   \n",
      "3      h       1612  OpenPlay    2021   LeftFoot     17132   Sassuolo   \n",
      "4      h       4981  SetPiece    2021       Head     17132   Sassuolo   \n",
      "...   ..        ...       ...     ...        ...       ...        ...   \n",
      "1005   a       7958  OpenPlay    2021  RightFoot     16765  Sampdoria   \n",
      "1006   a       4699  SetPiece    2021       Head     16765  Sampdoria   \n",
      "1007   a       1574  OpenPlay    2021   LeftFoot     16765  Sampdoria   \n",
      "1008   a       6421  OpenPlay    2021  RightFoot     16765  Sampdoria   \n",
      "1009   a       1852  OpenPlay    2021  RightFoot     16765  Sampdoria   \n",
      "\n",
      "        a_team  h_goals  a_goals                 date         player_assisted  \\\n",
      "0     AC Milan        0        3  2022-05-22 16:00:00              Kaan Ayhan   \n",
      "1     AC Milan        0        3  2022-05-22 16:00:00  Georgios Kyriakopoulos   \n",
      "2     AC Milan        0        3  2022-05-22 16:00:00       Giacomo Raspadori   \n",
      "3     AC Milan        0        3  2022-05-22 16:00:00                     NaN   \n",
      "4     AC Milan        0        3  2022-05-22 16:00:00        Domenico Berardi   \n",
      "...        ...      ...      ...                  ...                     ...   \n",
      "1005  AC Milan        0        1  2021-08-23 18:45:00                     NaN   \n",
      "1006  AC Milan        0        1  2021-08-23 18:45:00           Sandro Tonali   \n",
      "1007  AC Milan        0        1  2021-08-23 18:45:00           Sandro Tonali   \n",
      "1008  AC Milan        0        1  2021-08-23 18:45:00     Alexis Saelemaekers   \n",
      "1009  AC Milan        0        1  2021-08-23 18:45:00          Olivier Giroud   \n",
      "\n",
      "     lastAction  \n",
      "0          Pass  \n",
      "1        Tackle  \n",
      "2        Aerial  \n",
      "3          None  \n",
      "4         Cross  \n",
      "...         ...  \n",
      "1005       None  \n",
      "1006     Aerial  \n",
      "1007       Pass  \n",
      "1008       Pass  \n",
      "1009       Pass  \n",
      "\n",
      "[1010 rows x 20 columns]\n"
     ]
    }
   ],
   "source": [
    "#read in data\n",
    "df = pd.read_csv ('data/data.csv')\n",
    "# print(df)\n",
    "\n",
    "#filter to milan players only\n",
    "df = df[df['player_id'].isin(milan_players)])\n",
    "# print(df)\n",
    "\n",
    "#count shots\n"
   ]
  },
  {
   "cell_type": "code",
   "execution_count": 11,
   "metadata": {},
   "outputs": [],
   "source": [
    "df.to_csv('data/data.csv', sep=',', encoding='utf-8', index=False)"
   ]
  },
  {
   "cell_type": "code",
   "execution_count": null,
   "metadata": {},
   "outputs": [],
   "source": []
  }
 ],
 "metadata": {
  "kernelspec": {
   "display_name": "Python 3 (ipykernel)",
   "language": "python",
   "name": "python3"
  },
  "language_info": {
   "codemirror_mode": {
    "name": "ipython",
    "version": 3
   },
   "file_extension": ".py",
   "mimetype": "text/x-python",
   "name": "python",
   "nbconvert_exporter": "python",
   "pygments_lexer": "ipython3",
   "version": "3.9.7"
  }
 },
 "nbformat": 4,
 "nbformat_minor": 4
}
