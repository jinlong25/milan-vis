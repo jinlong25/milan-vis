{
 "cells": [
  {
   "cell_type": "code",
   "execution_count": 1,
   "metadata": {},
   "outputs": [],
   "source": [
    "import json\n",
    "import pandas as pd\n",
    "import csv"
   ]
  },
  {
   "cell_type": "code",
   "execution_count": 2,
   "metadata": {},
   "outputs": [],
   "source": [
    "milan_players = [\n",
    "  7193, 502, 1741, 8838, 2547, 7958, 8297, 1574, 1489, 1852,\n",
    "  6421, 1254, 6981, 1119,1311, 703, 1471, 4699, 3429, 8163,\n",
    "  2303, 4920, 8313, 1547, 5803, 9440, 3737, 1416\n",
    "]"
   ]
  },
  {
   "cell_type": "code",
   "execution_count": 3,
   "metadata": {},
   "outputs": [],
   "source": [
    "#read in data\n",
    "df = pd.read_csv ('data/data.csv')\n",
    "\n",
    "#filter to milan players only\n",
    "df = df[df['player_id'].isin(milan_players)]\n",
    "# print(df)"
   ]
  },
  {
   "cell_type": "code",
   "execution_count": 4,
   "metadata": {},
   "outputs": [],
   "source": [
    "#calculate sum of xG, # of shots, goals scored\n",
    "xG_sum = pd.DataFrame(df.groupby(['player_id', 'player'])[\"xG\"].sum())\n",
    "xG_sum.reset_index(inplace=True)\n",
    "\n",
    "shot_count = pd.DataFrame(df.groupby(['player_id', 'player']).size())\n",
    "shot_count = shot_count.rename(columns = {0: 'shots'})\n",
    "shot_count.reset_index(inplace=True)\n",
    "\n",
    "df['goalScored'] = df['result'] == 'Goal'\n",
    "goal_scored_sum = pd.DataFrame(df.groupby(['player_id', 'player'])['goalScored'].sum())\n",
    "goal_scored_sum.reset_index(inplace=True)"
   ]
  },
  {
   "cell_type": "code",
   "execution_count": 5,
   "metadata": {},
   "outputs": [
    {
     "name": "stdout",
     "output_type": "stream",
     "text": [
      "    player_id                   player         xG  goalScored  shots\n",
      "0         502           Olivier Giroud  11.489899          11     63\n",
      "1         703            Fikayo Tomori   1.948243           0     12\n",
      "2        1119        Alessio Romagnoli   0.788195           1     12\n",
      "3        1254      Alessandro Florenzi   0.820500           2     22\n",
      "4        1311              Rade Krunic   0.693070           0     10\n",
      "5        1471       Lorenzo Pellegrini   0.368404           0      7\n",
      "6        1489            Franck Kessié   4.831390           6     35\n",
      "7        1574          Davide Calabria   3.896272           2     36\n",
      "8        1741       Zlatan Ibrahimovic   7.344696           8     52\n",
      "9        1852               Ante Rebic   2.885235           2     31\n",
      "10       2303          Samu Castillejo   0.124452           0      2\n",
      "11       2547           Theo Hernández   5.300132           5     42\n",
      "12       3429         Tiemoué Bakayoko   0.493949           0      4\n",
      "13       4699              Simon Kjaer   0.402583           0      6\n",
      "14       4920            Matteo Gabbia   0.012990           0      1\n",
      "15       5803               Fode Toure   0.272181           0      2\n",
      "16       6421              Brahim Diaz   4.575273           3     30\n",
      "17       6981          Ismael Bennacer   0.686320           2     16\n",
      "18       7193              Rafael Leão   9.124196          11     97\n",
      "19       7958            Sandro Tonali   4.595870           5     38\n",
      "20       8163           Daniel Maldini   0.549475           1      3\n",
      "21       8297      Alexis Saelemaekers   3.180293           1     39\n",
      "22       8313  Pierre Kalulu Kyatengwa   0.404869           1      5\n",
      "23       8838           Junior Messias   4.320438           5     44\n"
     ]
    }
   ],
   "source": [
    "#merge above dfs\n",
    "output = pd.merge(xG_sum, goal_scored_sum, on = ['player', 'player_id'], how = 'inner')\n",
    "\n",
    "output = pd.merge(output, shot_count, on = ['player', 'player_id'], how = 'inner')\n",
    "print(output)\n",
    "# print(xG_sum)\n",
    "# print(shot_sum)\n",
    "# print(goal_scored_sum)"
   ]
  },
  {
   "cell_type": "code",
   "execution_count": 6,
   "metadata": {},
   "outputs": [
    {
     "name": "stdout",
     "output_type": "stream",
     "text": [
      "    player_id                   player         xG  goalScored  shots  \\\n",
      "0         502           Olivier Giroud  11.489899          11     63   \n",
      "1         703            Fikayo Tomori   1.948243           0     12   \n",
      "2        1119        Alessio Romagnoli   0.788195           1     12   \n",
      "3        1254      Alessandro Florenzi   0.820500           2     22   \n",
      "4        1311              Rade Krunic   0.693070           0     10   \n",
      "5        1471       Lorenzo Pellegrini   0.368404           0      7   \n",
      "6        1489            Franck Kessié   4.831390           6     35   \n",
      "7        1574          Davide Calabria   3.896272           2     36   \n",
      "8        1741       Zlatan Ibrahimovic   7.344696           8     52   \n",
      "9        1852               Ante Rebic   2.885235           2     31   \n",
      "10       2303          Samu Castillejo   0.124452           0      2   \n",
      "11       2547           Theo Hernández   5.300132           5     42   \n",
      "12       3429         Tiemoué Bakayoko   0.493949           0      4   \n",
      "13       4699              Simon Kjaer   0.402583           0      6   \n",
      "14       4920            Matteo Gabbia   0.012990           0      1   \n",
      "15       5803               Fode Toure   0.272181           0      2   \n",
      "16       6421              Brahim Diaz   4.575273           3     30   \n",
      "17       6981          Ismael Bennacer   0.686320           2     16   \n",
      "18       7193              Rafael Leão   9.124196          11     97   \n",
      "19       7958            Sandro Tonali   4.595870           5     38   \n",
      "20       8163           Daniel Maldini   0.549475           1      3   \n",
      "21       8297      Alexis Saelemaekers   3.180293           1     39   \n",
      "22       8313  Pierre Kalulu Kyatengwa   0.404869           1      5   \n",
      "23       8838           Junior Messias   4.320438           5     44   \n",
      "\n",
      "    GoalVSxG  shotsPerGoal  \n",
      "0  -0.489899      5.727273  \n",
      "1  -1.948243           inf  \n",
      "2   0.211805     12.000000  \n",
      "3   1.179500     11.000000  \n",
      "4  -0.693070           inf  \n",
      "5  -0.368404           inf  \n",
      "6   1.168610      5.833333  \n",
      "7  -1.896272     18.000000  \n",
      "8   0.655304      6.500000  \n",
      "9  -0.885235     15.500000  \n",
      "10 -0.124452           inf  \n",
      "11 -0.300132      8.400000  \n",
      "12 -0.493949           inf  \n",
      "13 -0.402583           inf  \n",
      "14 -0.012990           inf  \n",
      "15 -0.272181           inf  \n",
      "16 -1.575273     10.000000  \n",
      "17  1.313680      8.000000  \n",
      "18  1.875804      8.818182  \n",
      "19  0.404130      7.600000  \n",
      "20  0.450525      3.000000  \n",
      "21 -2.180293     39.000000  \n",
      "22  0.595131      5.000000  \n",
      "23  0.679562      8.800000  \n"
     ]
    }
   ],
   "source": [
    "#calculate GoalVSxG and shotsPerGoal\n",
    "output['GoalVSxG'] = output['goalScored'] - output['xG']\n",
    "output['shotsPerGoal'] = output['shots'] / output['goalScored']\n",
    "print(output)"
   ]
  },
  {
   "cell_type": "code",
   "execution_count": 7,
   "metadata": {},
   "outputs": [],
   "source": [
    "output.to_csv('data/test.csv', sep=',', encoding='utf-8', index=False)"
   ]
  }
 ],
 "metadata": {
  "kernelspec": {
   "display_name": "Python 3 (ipykernel)",
   "language": "python",
   "name": "python3"
  },
  "language_info": {
   "codemirror_mode": {
    "name": "ipython",
    "version": 3
   },
   "file_extension": ".py",
   "mimetype": "text/x-python",
   "name": "python",
   "nbconvert_exporter": "python",
   "pygments_lexer": "ipython3",
   "version": "3.9.7"
  }
 },
 "nbformat": 4,
 "nbformat_minor": 4
}
