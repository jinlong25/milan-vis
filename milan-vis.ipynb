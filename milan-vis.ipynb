{
 "cells": [
  {
   "cell_type": "code",
   "execution_count": 2,
   "metadata": {},
   "outputs": [],
   "source": [
    "import json\n",
    "import pandas as pd\n",
    "from understatscraper import Understat"
   ]
  },
  {
   "cell_type": "code",
   "execution_count": 3,
   "metadata": {},
   "outputs": [],
   "source": [
    "# creating an instance of the class Understat\n",
    "understat = Understat()"
   ]
  },
  {
   "cell_type": "code",
   "execution_count": 4,
   "metadata": {},
   "outputs": [],
   "source": [
    "#calling a function to scrape shots data for the EPL season 20/21\n",
    "#returns a dataframe containing all the shots data from the EPL season 20/21\n",
    "# df = understat.season('Serie A', 2021)\n",
    "# print(df)"
   ]
  },
  {
   "cell_type": "code",
   "execution_count": 5,
   "metadata": {},
   "outputs": [],
   "source": [
    "# #calling a function to scrape shots data for Raheem Sterling from the 20/21 EPL season.\n",
    "# df = understat.season('Serie A', 2022, team='AC milan')\n",
    "# print(df)"
   ]
  },
  {
   "cell_type": "code",
   "execution_count": 14,
   "metadata": {},
   "outputs": [
    {
     "name": "stdout",
     "output_type": "stream",
     "text": [
      "37\n"
     ]
    }
   ],
   "source": [
    "milan_games = [\"17121\",\n",
    "               \"17108\",\n",
    "               \"17100\",\n",
    "\"17091\",\n",
    "\"17081\",\n",
    "\"17074\",\n",
    "\"17061\",\n",
    "\"17047\",\n",
    "\"17040\",\n",
    "\"17032\",\n",
    "\"17021\",\n",
    "\"17012\",\n",
    "\"17001\",\n",
    "\"16989\",\n",
    "\"16982\",\n",
    "\"16970\",\n",
    "\"16965\",\n",
    "\"16951\",\n",
    "\"16936\",\n",
    "\"16931\",\n",
    "\"16924\",\n",
    "\"16910\",\n",
    "\"16899\",\n",
    "\"16889\",\n",
    "\"16878\",\n",
    "\"16870\",\n",
    "\"16862\",\n",
    "\"16850\",\n",
    "\"16837\",\n",
    "\"16831\",\n",
    "\"16816\",\n",
    "\"16812\",\n",
    "\"16800\",\n",
    "\"16790\",\n",
    "\"16780\",\n",
    "\"16774\",\n",
    "\"16765\"]\n",
    "\n",
    "print(len(milan_games))"
   ]
  },
  {
   "cell_type": "code",
   "execution_count": 15,
   "metadata": {},
   "outputs": [],
   "source": [
    "# df = understat.single_match(17091)\n",
    "# print(df)\n",
    "\n",
    "df = pd.DataFrame()\n",
    "for e in milan_games[:]:\n",
    "    this_game = understat.single_match(e)\n",
    "    this_game['match_id'] = e\n",
    "    df = df.append(this_game, ignore_index=True)\n",
    "\n",
    "# print(df)"
   ]
  },
  {
   "cell_type": "code",
   "execution_count": 16,
   "metadata": {},
   "outputs": [],
   "source": [
    "df.to_csv('data/data.csv', sep=',', encoding='utf-8', index=False)"
   ]
  },
  {
   "cell_type": "code",
   "execution_count": 11,
   "metadata": {},
   "outputs": [],
   "source": []
  },
  {
   "cell_type": "code",
   "execution_count": null,
   "metadata": {},
   "outputs": [],
   "source": []
  }
 ],
 "metadata": {
  "kernelspec": {
   "display_name": "Python 3 (ipykernel)",
   "language": "python",
   "name": "python3"
  },
  "language_info": {
   "codemirror_mode": {
    "name": "ipython",
    "version": 3
   },
   "file_extension": ".py",
   "mimetype": "text/x-python",
   "name": "python",
   "nbconvert_exporter": "python",
   "pygments_lexer": "ipython3",
   "version": "3.9.7"
  }
 },
 "nbformat": 4,
 "nbformat_minor": 4
}
